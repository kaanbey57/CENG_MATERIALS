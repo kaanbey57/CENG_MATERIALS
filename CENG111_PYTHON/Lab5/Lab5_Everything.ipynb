{
    "cells": [
        {
            "cell_type": "markdown",
            "metadata": {},
            "source": [
                "# **LAB5 RECAP**\n",
                "\n",
                "In this document, we are going to recall what we did in **LAB 4** and cover **LAB 5**'s content. Exercises will also be explained here.\n",
                "\n",
                "## **LAB 4 CONTENT**\n",
                "\n",
                "In **LAB 4** before our system quiz, we have discussed;\n",
                "\n",
                "- Python Interpreter\n",
                "- Basic arithmetic operations\n",
                "- Data types\n",
                "- Some methods (`abs`, `hex`, `bin`, `oct`)\n",
                "- Floating point precision loss issue\n",
                "- Type conversions\n",
                "- Some methods for characters (`ord`,`chr`,`isalnum`, `isdigit`)\n",
                "\n",
                "Let's recall them one by one.\n",
                "\n",
                "### **Python Interpreter**\n",
                "\n",
                "When we type `python` or `python3` in our terminal, we see the interpreter. Interpreter works with **REPL(read-evaluate-print-loop)** logic.\n",
                "\n",
                "| **Python Interpreter** |\n",
                "|:--:|\n",
                "|<img src=\"../static/interpreter.png\" alt=\"interpreter\" width=\"800\"/>|\n",
                "| We use `python3` in our labs |\n",
                "\n",
                "It basically;\n",
                "\n",
                "1. Expects statements from us\n",
                "2. Evaluates them\n",
                "3. Prints the result\n",
                "4. Returns to step 1\n",
                "\n",
                "So we studied next concepts using this interpreter.\n",
                "\n",
                "### **Basic Arithmetic Operations**\n",
                "\n",
                "We then, looked at how to form arithmetic operations with numbers. The operators we have studied were;\n",
                "\n",
                "- **+ :** addition\n",
                "- **- :** subtraction\n",
                "- **\\* :** multiplication\n",
                "- **\\*\\* :** power operator (`x**2` is x<sup>2</sup>)\n",
                "- **% :** modulo operator (`x % y` gives the remainder if we divide `x` to `y`)\n",
                "\n",
                "And in addition, we can use paranthesis for determining priorities of operations. Same simple math rules apply here.\n",
                "\n",
                "for example;\n"
            ]
        },
        {
            "cell_type": "code",
            "execution_count": null,
            "metadata": {},
            "outputs": [],
            "source": []
        },
        {
            "cell_type": "markdown",
            "metadata": {},
            "source": [
                "If we write the expression above in our interpreter, it evalutes the result as **11** and prints the result. We can write different expression examples;"
            ]
        },
        {
            "cell_type": "code",
            "execution_count": null,
            "metadata": {},
            "outputs": [],
            "source": []
        },
        {
            "cell_type": "code",
            "execution_count": null,
            "metadata": {},
            "outputs": [],
            "source": []
        },
        {
            "cell_type": "code",
            "execution_count": null,
            "metadata": {},
            "outputs": [],
            "source": []
        },
        {
            "cell_type": "code",
            "execution_count": null,
            "metadata": {},
            "outputs": [],
            "source": []
        },
        {
            "cell_type": "markdown",
            "metadata": {},
            "source": [
                "### **Data Types**\n",
                "\n",
                "Next, we studied some primitive **data types** in python. We have looked at;\n",
                "\n",
                "- `int` => integer numbers\n",
                "- `float` => floating point numbers\n",
                "- `bool` => `True` or `False`\n",
                "- `string` => list of characters\n",
                "\n",
                "We can check **types** of expressions with `type()` function. We can use it like this;"
            ]
        },
        {
            "cell_type": "code",
            "execution_count": null,
            "metadata": {},
            "outputs": [],
            "source": []
        },
        {
            "cell_type": "code",
            "execution_count": null,
            "metadata": {},
            "outputs": [],
            "source": []
        },
        {
            "cell_type": "code",
            "execution_count": null,
            "metadata": {},
            "outputs": [],
            "source": []
        },
        {
            "cell_type": "code",
            "execution_count": null,
            "metadata": {},
            "outputs": [],
            "source": []
        },
        {
            "cell_type": "code",
            "execution_count": null,
            "metadata": {},
            "outputs": [],
            "source": []
        },
        {
            "cell_type": "markdown",
            "metadata": {},
            "source": [
                "Types of expressions are determined from their operands. For example lets consider;\n",
                "\n",
                "`4 * 3.75 - 1`\n",
                "\n",
                "First operand is an `int`, second one is `float` and third one is `int`. Since we have a `float` the result of this expression is also going to be a `float`"
            ]
        },
        {
            "cell_type": "code",
            "execution_count": null,
            "metadata": {},
            "outputs": [],
            "source": []
        },
        {
            "cell_type": "markdown",
            "metadata": {},
            "source": [
                "### **ABS, HEX, BIN and OCT**\n",
                "\n",
                "We have studied some `abs` , `hex`, `bin` and `oct` functions.\n",
                "\n",
                "- `abs`: takes absolute value\n",
                "- `hex`: shows the number in hexadecimal(base 16) format\n",
                "- `bin`: shows the number in binary format(base 2)\n",
                "- `oct`: shows the number in octal format(base 8)\n",
                "\n",
                "for example;"
            ]
        },
        {
            "cell_type": "code",
            "execution_count": null,
            "metadata": {},
            "outputs": [],
            "source": []
        },
        {
            "cell_type": "code",
            "execution_count": null,
            "metadata": {},
            "outputs": [],
            "source": []
        },
        {
            "cell_type": "code",
            "execution_count": null,
            "metadata": {},
            "outputs": [],
            "source": []
        },
        {
            "cell_type": "code",
            "execution_count": null,
            "metadata": {},
            "outputs": [],
            "source": []
        },
        {
            "cell_type": "markdown",
            "metadata": {},
            "source": [
                "We can examine types of octal"
            ]
        },
        {
            "cell_type": "code",
            "execution_count": null,
            "metadata": {},
            "outputs": [],
            "source": []
        },
        {
            "cell_type": "markdown",
            "metadata": {},
            "source": [
                "binary"
            ]
        },
        {
            "cell_type": "code",
            "execution_count": null,
            "metadata": {},
            "outputs": [],
            "source": []
        },
        {
            "cell_type": "markdown",
            "metadata": {},
            "source": [
                "and octal numbers and they are all integer type;"
            ]
        },
        {
            "cell_type": "code",
            "execution_count": null,
            "metadata": {},
            "outputs": [],
            "source": []
        },
        {
            "cell_type": "markdown",
            "metadata": {},
            "source": [
                "### **Comparing Values**\n",
                "\n",
                "We can compare values in python with;\n",
                "\n",
                "- `A == B` checks if `A` is equal to `B`\n",
                "- `A < B` checks if `A` is less than `B`\n",
                "- `A <= B` checks if `A` is less than or equal to `B`\n",
                "- `A > B` checks if `A` is greater than `B`\n",
                "- `A >= B` checks if `A` is greater than or equal to `B`\n",
                "\n",
                "These comparison expressions return bool values `True` or `False`"
            ]
        },
        {
            "cell_type": "markdown",
            "metadata": {},
            "source": [
                "### **Floating Point Precision Issue**\n",
                "\n",
                "There is a precision loss issue in python. For example in this expression;\n",
                "\n",
                "`0.1 + 0.2`\n",
                "\n",
                "we expect `0.3` as the result but we get;"
            ]
        },
        {
            "cell_type": "code",
            "execution_count": null,
            "metadata": {},
            "outputs": [],
            "source": []
        },
        {
            "cell_type": "markdown",
            "metadata": {},
            "source": [
                "So if we want to check whether `0.1 + 0.2` equals to `0.3`, we will get false"
            ]
        },
        {
            "cell_type": "code",
            "execution_count": null,
            "metadata": {},
            "outputs": [],
            "source": []
        },
        {
            "cell_type": "markdown",
            "metadata": {},
            "source": [
                "In order to solve this precision problem, we use `abs` function and a small number to compare"
            ]
        },
        {
            "cell_type": "code",
            "execution_count": null,
            "metadata": {},
            "outputs": [],
            "source": []
        },
        {
            "cell_type": "markdown",
            "metadata": {},
            "source": [
                "Now we get `True`"
            ]
        },
        {
            "cell_type": "markdown",
            "metadata": {},
            "source": [
                "### **Strings**\n",
                "\n",
                "Strings are arrays of characters. We define strings with both '' or \"\". However for strings, it is better to use \"\" because '' is mostly used for single characters in other languages. It will be a better practice."
            ]
        },
        {
            "cell_type": "code",
            "execution_count": null,
            "metadata": {},
            "outputs": [],
            "source": []
        },
        {
            "cell_type": "code",
            "execution_count": null,
            "metadata": {},
            "outputs": [],
            "source": []
        },
        {
            "cell_type": "markdown",
            "metadata": {},
            "source": [
                "We can use some arithmetic operators on strings. For example;"
            ]
        },
        {
            "cell_type": "code",
            "execution_count": null,
            "metadata": {},
            "outputs": [],
            "source": []
        },
        {
            "cell_type": "markdown",
            "metadata": {},
            "source": [
                "The operation above is a **concatenation** operations. Second string is added to the end of the first string. Another example;"
            ]
        },
        {
            "cell_type": "code",
            "execution_count": null,
            "metadata": {},
            "outputs": [],
            "source": []
        },
        {
            "cell_type": "markdown",
            "metadata": {},
            "source": [
                "### **Type Conversion**\n",
                "\n",
                "We can sometimes convert types of values to another type. For example, we can convert numeric strings to integer number with `int()` function"
            ]
        },
        {
            "cell_type": "code",
            "execution_count": null,
            "metadata": {},
            "outputs": [],
            "source": []
        },
        {
            "cell_type": "code",
            "execution_count": null,
            "metadata": {},
            "outputs": [],
            "source": []
        },
        {
            "cell_type": "markdown",
            "metadata": {},
            "source": [
                "`int()` function can get 2 arguments. Second argument determines the base. For example;"
            ]
        },
        {
            "cell_type": "code",
            "execution_count": null,
            "metadata": {},
            "outputs": [],
            "source": []
        },
        {
            "cell_type": "code",
            "execution_count": null,
            "metadata": {},
            "outputs": [],
            "source": []
        },
        {
            "cell_type": "markdown",
            "metadata": {},
            "source": [
                "We can also convert `string` values into `float` values with `float()` function."
            ]
        },
        {
            "cell_type": "code",
            "execution_count": null,
            "metadata": {},
            "outputs": [],
            "source": []
        },
        {
            "cell_type": "code",
            "execution_count": null,
            "metadata": {},
            "outputs": [],
            "source": []
        },
        {
            "cell_type": "markdown",
            "metadata": {},
            "source": [
                "In similar manner, we can also convert `float`, `int` or `bool` values into `string` with `str()` function"
            ]
        },
        {
            "cell_type": "code",
            "execution_count": null,
            "metadata": {},
            "outputs": [],
            "source": []
        },
        {
            "cell_type": "code",
            "execution_count": null,
            "metadata": {},
            "outputs": [],
            "source": []
        },
        {
            "cell_type": "code",
            "execution_count": null,
            "metadata": {},
            "outputs": [],
            "source": []
        },
        {
            "cell_type": "markdown",
            "metadata": {},
            "source": [
                "### **ORD, CHR, ISALNUM and ISDIGIT**\n",
                "\n",
                "Characters we enter from keyboard have their `ascii` values. By writing `man ascii` in our terminal we can see these numbers. In below image, we can see decimal representations of our characters.\n",
                "\n",
                "| **Ascii Numbers** |\n",
                "|:--:|\n",
                "|<img src=\"../static/ascii_numbers.png\" alt=\"interpreter\" width=\"500\"/>|\n",
                "| A compact representation of ascii numbers |\n",
                "\n",
                "For example, by looking at this table, we can see that number of 'a' character is `97`. In python, we can play around with these numbers. Functions;\n",
                "\n",
                "- `ord()` returns the decimal ascii number of the character\n",
                "- `chr()` returns the character corresponding to that decimal number\n",
                "\n",
                "For example;"
            ]
        },
        {
            "cell_type": "code",
            "execution_count": null,
            "metadata": {},
            "outputs": [],
            "source": []
        },
        {
            "cell_type": "code",
            "execution_count": null,
            "metadata": {},
            "outputs": [],
            "source": []
        },
        {
            "cell_type": "markdown",
            "metadata": {},
            "source": [
                "When we look at the alphabetic lowercase and uppercase letters in ascii table, we see that the difference of uppercase and lowercase form of a letter is always `32`"
            ]
        },
        {
            "cell_type": "code",
            "execution_count": null,
            "metadata": {},
            "outputs": [],
            "source": []
        },
        {
            "cell_type": "code",
            "execution_count": null,
            "metadata": {},
            "outputs": [],
            "source": []
        },
        {
            "cell_type": "markdown",
            "metadata": {},
            "source": [
                "This knowledge can be used for capitalizing characters.\n",
                "\n",
                "We also have three other functions called `isalnum()` , `isdigit()` and `isalpha()`.\n",
                "\n",
                "- `isalnum()` checks whether string corresponds to an alphanumeric string. So if contains characters like `.`, `-` etc. It will return false."
            ]
        },
        {
            "cell_type": "code",
            "execution_count": null,
            "metadata": {},
            "outputs": [],
            "source": []
        },
        {
            "cell_type": "code",
            "execution_count": null,
            "metadata": {},
            "outputs": [],
            "source": []
        },
        {
            "cell_type": "code",
            "execution_count": null,
            "metadata": {},
            "outputs": [],
            "source": []
        },
        {
            "cell_type": "markdown",
            "metadata": {},
            "source": [
                "- `idigit()` checks whether the string corresponds to a numeric value"
            ]
        },
        {
            "cell_type": "code",
            "execution_count": null,
            "metadata": {},
            "outputs": [],
            "source": []
        },
        {
            "cell_type": "code",
            "execution_count": null,
            "metadata": {},
            "outputs": [],
            "source": []
        },
        {
            "cell_type": "markdown",
            "metadata": {},
            "source": [
                "- `isalpha()` checks whether the string corresponds alphabetic characters"
            ]
        },
        {
            "cell_type": "code",
            "execution_count": null,
            "metadata": {},
            "outputs": [],
            "source": []
        },
        {
            "cell_type": "code",
            "execution_count": null,
            "metadata": {},
            "outputs": [],
            "source": []
        },
        {
            "cell_type": "code",
            "execution_count": null,
            "metadata": {},
            "outputs": [],
            "source": []
        },
        {
            "cell_type": "markdown",
            "metadata": {},
            "source": [
                "## **LAB5 CONTENT**\n",
                "\n",
                "In **Lab 5**, after some recall, we dived into variable definitions. We can define variables in python like this;"
            ]
        },
        {
            "cell_type": "code",
            "execution_count": null,
            "metadata": {},
            "outputs": [],
            "source": []
        },
        {
            "cell_type": "code",
            "execution_count": null,
            "metadata": {},
            "outputs": [],
            "source": []
        },
        {
            "cell_type": "markdown",
            "metadata": {},
            "source": [
                "We see that variable `a` is an integer and its value is 5. What will happen if we do"
            ]
        },
        {
            "cell_type": "code",
            "execution_count": null,
            "metadata": {},
            "outputs": [],
            "source": []
        },
        {
            "cell_type": "markdown",
            "metadata": {},
            "source": [
                "We have changed the value of `a` to a `string` value. We changed its type. This is allowed in python because it is a **dynamically-typed language**! In some other programming languages like `C/C++` this is not allowed."
            ]
        },
        {
            "cell_type": "markdown",
            "metadata": {},
            "source": [
                "## PRINT\n",
                "\n",
                "We have an important built-in function called `print()`. This function prints the values and variables to the terminal."
            ]
        },
        {
            "cell_type": "code",
            "execution_count": null,
            "metadata": {},
            "outputs": [],
            "source": []
        },
        {
            "cell_type": "code",
            "execution_count": null,
            "metadata": {},
            "outputs": [],
            "source": []
        },
        {
            "cell_type": "code",
            "execution_count": null,
            "metadata": {},
            "outputs": [],
            "source": []
        },
        {
            "cell_type": "markdown",
            "metadata": {},
            "source": [
                "If we want to print `newlines` we can use `\\n` while printing."
            ]
        },
        {
            "cell_type": "code",
            "execution_count": null,
            "metadata": {},
            "outputs": [],
            "source": []
        },
        {
            "cell_type": "markdown",
            "metadata": {},
            "source": [
                "Similarly, we can use `\\t` for using tabs while printing"
            ]
        },
        {
            "cell_type": "code",
            "execution_count": null,
            "metadata": {},
            "outputs": [],
            "source": []
        },
        {
            "cell_type": "markdown",
            "metadata": {},
            "source": [
                "## ID Function\n",
                "\n",
                "Every object(int, float, string etc.) in python has a value and id. We can think `id` as the address of that object in memory. For exmaple"
            ]
        },
        {
            "cell_type": "code",
            "execution_count": null,
            "metadata": {},
            "outputs": [],
            "source": []
        },
        {
            "cell_type": "markdown",
            "metadata": {},
            "source": [
                "It gave us an integer number which is the id of variable `a`\n",
                "\n",
                "## Taking Input From User\n",
                "\n",
                "We can read inputs from users with `input()` function. When program sees an `input()` function, it stops and waits for user input. After we give an input and press enter, it resumes back. For example;"
            ]
        },
        {
            "cell_type": "code",
            "execution_count": null,
            "metadata": {},
            "outputs": [],
            "source": []
        },
        {
            "cell_type": "markdown",
            "metadata": {},
            "source": [
                "Values we load with `input()` are strings. If we want to take values with different types, we should use **type conversion**. For example"
            ]
        },
        {
            "cell_type": "code",
            "execution_count": null,
            "metadata": {},
            "outputs": [],
            "source": []
        },
        {
            "cell_type": "code",
            "execution_count": null,
            "metadata": {},
            "outputs": [],
            "source": []
        },
        {
            "cell_type": "markdown",
            "metadata": {},
            "source": [
                "## EVAL\n",
                "\n",
                "We can calculate results of mathematical expression strings with `eval()` function. For example;"
            ]
        },
        {
            "cell_type": "code",
            "execution_count": null,
            "metadata": {},
            "outputs": [],
            "source": []
        },
        {
            "cell_type": "markdown",
            "metadata": {},
            "source": [
                "So, we can read expressions from users and evaluate their results with `eval()` and use them"
            ]
        },
        {
            "cell_type": "code",
            "execution_count": null,
            "metadata": {},
            "outputs": [],
            "source": []
        },
        {
            "cell_type": "markdown",
            "metadata": {},
            "source": [
                "## Writing Scripts\n",
                "\n",
                "Until this part, we have written statements in interpreter. In this part, we learnt how to write python scripts in text files and run them. We can use programs like `text editor`, `sublime text` for writing scripts. But developers like using `IDE`'s for writing code. Features like code completions, theming, seeing project structure better is desirable. `VsCode` is a good `IDE` for writing code. You can check that out.\n",
                "\n",
                "Lets write our first script. We create a file named `summation.py` and open it. In this script, we want to take two numbers from user, add them and print the result. We write this inside `summation.py`. After we write the code, we run this script with calling `python3 summation.py` and we get the result in our terminal."
            ]
        },
        {
            "cell_type": "code",
            "execution_count": null,
            "metadata": {},
            "outputs": [],
            "source": []
        },
        {
            "cell_type": "markdown",
            "metadata": {},
            "source": [
                "## Writing Comments\n",
                "\n",
                "We can write comments for explaining the code we write. It is a good practice. In python, we can use comments with using `#` character. Things we write after this character is only read by humans\n",
                "\n",
                "```python\n",
                "# This is a comment line\n",
                "```\n",
                "\n",
                "We can add multiline comments with `\"\"\" \"\"\"` \n",
                "\n",
                "```python\n",
                "\"\"\"\n",
                "    This is a\n",
                "    multiline\n",
                "    comment\n",
                "\"\"\"\n",
                "```\n",
                "\n",
                "Characters inside `\"\"\" \"\"\"` are only read by humans."
            ]
        },
        {
            "cell_type": "markdown",
            "metadata": {},
            "source": [
                "## LAB EXAMPLE EXPLANATIONS\n",
                "\n",
                "There are files called `InputExampleX_xxx.py` in tihs repo. These are the exercises we did in class. We can run them with `python3 InputExampleX_xxx.py` in our termianl. Lets explain these examples.\n",
                "\n",
                "### InputExample1_sum\n",
                "\n",
                "It is explained above with `summation.py`\n",
                "\n",
                "### InputExample2_average\n",
                "\n",
                "Lets take three integer values from user and print the average."
            ]
        },
        {
            "cell_type": "code",
            "execution_count": null,
            "metadata": {},
            "outputs": [],
            "source": []
        },
        {
            "cell_type": "markdown",
            "metadata": {},
            "source": [
                "## InputExample3_conversion\n",
                "\n",
                "We wrote a script which takes a `Celsius` degree value and converts it into `Fahrenheit`"
            ]
        },
        {
            "cell_type": "code",
            "execution_count": null,
            "metadata": {},
            "outputs": [],
            "source": []
        },
        {
            "cell_type": "markdown",
            "metadata": {},
            "source": [
                "## InputExample4_comparison\n",
                "\n",
                "In this exercise, we take two expressions and print `True` if they equal to same number, `False` otherwise.\n",
                "\n",
                "We calculate results of mathematical expressions with `eval()` function\n",
                "\n",
                "Earlier, we have talked about precission loss, so checking equality with `===` operator will not work everytime. So we need to use `abs()` function and compare it with a small number `epsilon`"
            ]
        },
        {
            "cell_type": "code",
            "execution_count": null,
            "metadata": {},
            "outputs": [],
            "source": []
        },
        {
            "cell_type": "markdown",
            "metadata": {},
            "source": [
                "## InputExample5_count\n",
                "\n",
                "In this part, we have examined a string function called `count()`. We use it like;\n",
                "\n",
                "`\"sample_string\".count('s')`\n",
                "\n",
                "Above code prints how many `s` we see in `sample_string`\n",
                "\n",
                "So in this exercise, we read two strings from user and print how many times we see the second string in the first one\n"
            ]
        },
        {
            "cell_type": "code",
            "execution_count": null,
            "metadata": {},
            "outputs": [],
            "source": []
        },
        {
            "cell_type": "markdown",
            "metadata": {},
            "source": [
                "## InputExample6_max\n",
                "\n",
                "We want to take two integer numbers and print the one which is bigger. We may use `if` statements but we did not learn them yet. To solve this exercise, we can use `abs` function like this;"
            ]
        },
        {
            "cell_type": "code",
            "execution_count": null,
            "metadata": {},
            "outputs": [],
            "source": []
        },
        {
            "cell_type": "markdown",
            "metadata": {},
            "source": [
                "## InputExample7_charCapitalize\n",
                "\n",
                "In this exercise, we want to write a script which takes a lowercase letter and prints the uppercase of that letter. Normally, we may use string functions like `upper()` but this is not permitted in this exercise.\n",
                "\n",
                "In order to solve this, we need to remember what `ord()` and `char()` functions do. We also need to remember ascii numbers.\n",
                "\n",
                "We recall that difference of ascii values of lowercase and uppercase letters are always `32`.\n",
                "\n",
                "Thus, using this knowledge;\n"
            ]
        },
        {
            "cell_type": "code",
            "execution_count": null,
            "metadata": {},
            "outputs": [],
            "source": []
        }
    ],
    "metadata": {
        "interpreter": {
            "hash": "31f2aee4e71d21fbe5cf8b01ff0e069b9275f58929596ceb00d14d90e3e16cd6"
        },
        "kernelspec": {
            "display_name": "Python 3.8.10 64-bit",
            "name": "python3"
        },
        "language_info": {
            "codemirror_mode": {
                "name": "ipython",
                "version": 3
            },
            "file_extension": ".py",
            "mimetype": "text/x-python",
            "name": "python",
            "nbconvert_exporter": "python",
            "pygments_lexer": "ipython3",
            "version": "3.10.12"
        },
        "orig_nbformat": 4
    },
    "nbformat": 4,
    "nbformat_minor": 2
}
