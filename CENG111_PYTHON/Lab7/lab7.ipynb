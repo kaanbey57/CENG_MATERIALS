{
 "cells": [
  {
   "cell_type": "markdown",
   "metadata": {},
   "source": [
    "# LAB7\n",
    "\n",
    "In this lab we will be looking at;\n",
    "\n",
    "- What are **modules** and how to create them\n",
    "- Comparison and Logical operators\n",
    "- Operator Precedence\n",
    "- **Functions**\n",
    "- Scoping\n",
    "- Conditionals (if statement)\n",
    "- Nested If\n",
    "\n",
    "\n",
    "## Modules\n",
    "\n",
    "Modules are **.py** files containing **Python** code. In modules, we define;\n",
    "\n",
    "- functions to use in another script\n",
    "- variables\n",
    "- Definitions and implementations of Classes\n",
    "\n",
    "And use them in other **.py** files by **importing**. This way, we organize our projects."
   ]
  },
  {
   "cell_type": "code",
   "execution_count": 142,
   "metadata": {},
   "outputs": [
    {
     "data": {
      "text/plain": [
       "2.0"
      ]
     },
     "execution_count": 142,
     "metadata": {},
     "output_type": "execute_result"
    }
   ],
   "source": [
    "import math\n",
    "math.sqrt(4)"
   ]
  },
  {
   "cell_type": "code",
   "execution_count": 143,
   "metadata": {},
   "outputs": [
    {
     "data": {
      "text/plain": [
       "3.141592653589793"
      ]
     },
     "execution_count": 143,
     "metadata": {},
     "output_type": "execute_result"
    }
   ],
   "source": [
    "math.pi"
   ]
  },
  {
   "cell_type": "code",
   "execution_count": 144,
   "metadata": {},
   "outputs": [
    {
     "data": {
      "text/plain": [
       "6.123233995736766e-17"
      ]
     },
     "execution_count": 144,
     "metadata": {},
     "output_type": "execute_result"
    }
   ],
   "source": [
    "math.cos((math.pi)/2)"
   ]
  },
  {
   "cell_type": "code",
   "execution_count": 145,
   "metadata": {},
   "outputs": [
    {
     "data": {
      "text/plain": [
       "-0.4480736161291701"
      ]
     },
     "execution_count": 145,
     "metadata": {},
     "output_type": "execute_result"
    }
   ],
   "source": [
    "math.cos(90)"
   ]
  },
  {
   "cell_type": "markdown",
   "metadata": {},
   "source": [
    "We can import variables, classes and functions from other modules individually with **from module-name import element**. Before diving into that, lets declare our own pi variable;"
   ]
  },
  {
   "cell_type": "code",
   "execution_count": 146,
   "metadata": {},
   "outputs": [
    {
     "name": "stdout",
     "output_type": "stream",
     "text": [
      "3.141592653589793\n"
     ]
    }
   ],
   "source": [
    "pi = 3.14\n",
    "from math import pi\n",
    "print(pi)"
   ]
  },
  {
   "cell_type": "markdown",
   "metadata": {},
   "source": [
    "In last lab, we discussed **list aliasing problem**. We solved it using **deepcopy()** function from **copy** module. Lets look at it again"
   ]
  },
  {
   "cell_type": "code",
   "execution_count": 147,
   "metadata": {},
   "outputs": [
    {
     "name": "stdout",
     "output_type": "stream",
     "text": [
      "[1, 2, 3, [1, 2, 3]]\n",
      "[1, 2, 3, [1, 2]]\n"
     ]
    }
   ],
   "source": [
    "import copy\n",
    "a=[1,2,3,[1,2]]\n",
    "b=copy.deepcopy(a)\n",
    "a[-1].append(3)\n",
    "print(a)\n",
    "print(b)"
   ]
  },
  {
   "cell_type": "markdown",
   "metadata": {},
   "source": [
    "### How we define modules\n",
    "\n",
    "The scripts ending with **.py** are actually modules. Lets define a module by creating a file named **mylib.py** just next to **lab7.ipynb** file (file of this jupyter notebook)\n",
    "\n",
    "We write ;\n",
    "\n",
    "```python\n",
    "author='write your name'\n",
    "pi=3.14\n",
    "e=2.71\n",
    "```\n",
    "\n",
    "After writing this, firstly lets look at how we import this in **python interpreter**. We simply run `python3` in our terminal and observe response of interpreter.\n",
    "\n",
    "```python\n",
    ">>> import mylib\n",
    ">>> mylib.author\n",
    "'your name'\n",
    ">>> from mylib import e\n",
    ">>> e\n",
    "2.71\n",
    "```\n",
    "\n",
    "Now lets do the same thing here;"
   ]
  },
  {
   "cell_type": "code",
   "execution_count": 148,
   "metadata": {},
   "outputs": [
    {
     "data": {
      "text/plain": [
       "'write your name'"
      ]
     },
     "execution_count": 148,
     "metadata": {},
     "output_type": "execute_result"
    }
   ],
   "source": [
    "import mylib\n",
    "mylib.author"
   ]
  },
  {
   "cell_type": "code",
   "execution_count": 149,
   "metadata": {},
   "outputs": [
    {
     "name": "stdout",
     "output_type": "stream",
     "text": [
      "2.71\n"
     ]
    }
   ],
   "source": [
    "from mylib import e\n",
    "print(e)"
   ]
  },
  {
   "cell_type": "markdown",
   "metadata": {},
   "source": [
    "## Comparison and Logical Operators\n",
    "\n",
    "We have looked at this previously"
   ]
  },
  {
   "cell_type": "code",
   "execution_count": 150,
   "metadata": {},
   "outputs": [
    {
     "data": {
      "text/plain": [
       "True"
      ]
     },
     "execution_count": 150,
     "metadata": {},
     "output_type": "execute_result"
    }
   ],
   "source": [
    "4 < 5"
   ]
  },
  {
   "cell_type": "code",
   "execution_count": 151,
   "metadata": {},
   "outputs": [
    {
     "data": {
      "text/plain": [
       "False"
      ]
     },
     "execution_count": 151,
     "metadata": {},
     "output_type": "execute_result"
    }
   ],
   "source": [
    "4>5"
   ]
  },
  {
   "cell_type": "code",
   "execution_count": 152,
   "metadata": {},
   "outputs": [
    {
     "data": {
      "text/plain": [
       "True"
      ]
     },
     "execution_count": 152,
     "metadata": {},
     "output_type": "execute_result"
    }
   ],
   "source": [
    "4<=5\n"
   ]
  },
  {
   "cell_type": "code",
   "execution_count": 153,
   "metadata": {},
   "outputs": [
    {
     "data": {
      "text/plain": [
       "True"
      ]
     },
     "execution_count": 153,
     "metadata": {},
     "output_type": "execute_result"
    }
   ],
   "source": [
    "4==4"
   ]
  },
  {
   "cell_type": "code",
   "execution_count": 154,
   "metadata": {},
   "outputs": [
    {
     "data": {
      "text/plain": [
       "True"
      ]
     },
     "execution_count": 154,
     "metadata": {},
     "output_type": "execute_result"
    }
   ],
   "source": [
    "4!=5"
   ]
  },
  {
   "cell_type": "markdown",
   "metadata": {},
   "source": [
    "Logical operators"
   ]
  },
  {
   "cell_type": "code",
   "execution_count": 155,
   "metadata": {},
   "outputs": [
    {
     "data": {
      "text/plain": [
       "False"
      ]
     },
     "execution_count": 155,
     "metadata": {},
     "output_type": "execute_result"
    }
   ],
   "source": [
    "True and False"
   ]
  },
  {
   "cell_type": "code",
   "execution_count": 156,
   "metadata": {},
   "outputs": [
    {
     "data": {
      "text/plain": [
       "False"
      ]
     },
     "execution_count": 156,
     "metadata": {},
     "output_type": "execute_result"
    }
   ],
   "source": [
    "1<3 and 3>4"
   ]
  },
  {
   "cell_type": "code",
   "execution_count": 157,
   "metadata": {},
   "outputs": [
    {
     "data": {
      "text/plain": [
       "True"
      ]
     },
     "execution_count": 157,
     "metadata": {},
     "output_type": "execute_result"
    }
   ],
   "source": [
    "True or False"
   ]
  },
  {
   "cell_type": "markdown",
   "metadata": {},
   "source": [
    "If a,b,c,...,y,z are expressions and *op1*, *op2*, ..., *opN* are comparison operators, then;\n",
    "\n",
    "- a *op1* b *op2* c ... y *opN* z is equivalent to\n",
    "- a *op1* b **and** b *op2* c **and** ... y *opN* z\n",
    "\n",
    "## Operator short circuit\n",
    "\n",
    "While evaluating logical operators, even evaluation hasn't finished yet but the result is obvious, python stops evaluating logical operator and gives the result."
   ]
  },
  {
   "cell_type": "code",
   "execution_count": 158,
   "metadata": {},
   "outputs": [
    {
     "data": {
      "text/plain": [
       "5"
      ]
     },
     "execution_count": 158,
     "metadata": {},
     "output_type": "execute_result"
    }
   ],
   "source": [
    "5 or 6"
   ]
  },
  {
   "cell_type": "code",
   "execution_count": 159,
   "metadata": {},
   "outputs": [
    {
     "data": {
      "text/plain": [
       "6"
      ]
     },
     "execution_count": 159,
     "metadata": {},
     "output_type": "execute_result"
    }
   ],
   "source": [
    "5 and 6\n"
   ]
  },
  {
   "cell_type": "code",
   "execution_count": 160,
   "metadata": {},
   "outputs": [
    {
     "data": {
      "text/plain": [
       "12"
      ]
     },
     "execution_count": 160,
     "metadata": {},
     "output_type": "execute_result"
    }
   ],
   "source": [
    "5 and (0 or 12)"
   ]
  },
  {
   "cell_type": "code",
   "execution_count": 161,
   "metadata": {},
   "outputs": [
    {
     "data": {
      "text/plain": [
       "5"
      ]
     },
     "execution_count": 161,
     "metadata": {},
     "output_type": "execute_result"
    }
   ],
   "source": [
    "5 or (0 and 12)"
   ]
  },
  {
   "cell_type": "markdown",
   "metadata": {},
   "source": [
    "We can even write buggy code and it does not warn us if there is an operator short circuit"
   ]
  },
  {
   "cell_type": "code",
   "execution_count": 162,
   "metadata": {},
   "outputs": [
    {
     "ename": "TypeError",
     "evalue": "unsupported operand type(s) for +: 'int' and 'str'",
     "output_type": "error",
     "traceback": [
      "\u001b[0;31m---------------------------------------------------------------------------\u001b[0m",
      "\u001b[0;31mTypeError\u001b[0m                                 Traceback (most recent call last)",
      "\u001b[0;32m/tmp/ipykernel_1291145/3688069228.py\u001b[0m in \u001b[0;36m<module>\u001b[0;34m\u001b[0m\n\u001b[0;32m----> 1\u001b[0;31m \u001b[0;36m3\u001b[0m \u001b[0;34m+\u001b[0m \u001b[0;34m\"six\"\u001b[0m\u001b[0;34m\u001b[0m\u001b[0;34m\u001b[0m\u001b[0m\n\u001b[0m",
      "\u001b[0;31mTypeError\u001b[0m: unsupported operand type(s) for +: 'int' and 'str'"
     ]
    }
   ],
   "source": [
    "3 + \"six\""
   ]
  },
  {
   "cell_type": "code",
   "execution_count": null,
   "metadata": {},
   "outputs": [
    {
     "data": {
      "text/plain": [
       "True"
      ]
     },
     "execution_count": 41,
     "metadata": {},
     "output_type": "execute_result"
    }
   ],
   "source": [
    "True or (3 + \"six\")"
   ]
  },
  {
   "cell_type": "markdown",
   "metadata": {},
   "source": [
    "In above code, we see that even there is a type error"
   ]
  },
  {
   "cell_type": "markdown",
   "metadata": {},
   "source": [
    "### Operator precedence\n",
    "\n",
    "In increasing order:\n",
    "\n",
    "- `or`\n",
    "- `and`\n",
    "- `not`\n",
    "- `(+,-)`\n",
    "- `(*,/)`\n",
    "- `**`\n",
    "- `x[index]`\n",
    "\n",
    "## Functions\n",
    "\n",
    "Functions are blocks of code that only runs when we call them. Functions in python can **return** values but it is not necessary. Actually we have seen functions a lot up to this point. For example;\n",
    "\n",
    "- `len()` -> returns the length of string, list, tuple...\n",
    "- `str()` -> converts a value to string\n",
    "- `input()` -> accepts input from user and returns it\n",
    "- `max() or min()` -> returns maximum or minimum value inside a list,tuple ...\n",
    "\n",
    "For example;"
   ]
  },
  {
   "cell_type": "code",
   "execution_count": null,
   "metadata": {},
   "outputs": [
    {
     "data": {
      "text/plain": [
       "5"
      ]
     },
     "execution_count": 42,
     "metadata": {},
     "output_type": "execute_result"
    }
   ],
   "source": [
    "a = [1,2,3,4,5]\n",
    "len(a)"
   ]
  },
  {
   "cell_type": "code",
   "execution_count": null,
   "metadata": {},
   "outputs": [
    {
     "name": "stdout",
     "output_type": "stream",
     "text": [
      "[1, 2, 3, 4, 5]\n"
     ]
    }
   ],
   "source": [
    "strb = \"[1,2,3,4,5]\"\n",
    "b= eval(strb)\n",
    "print(b)"
   ]
  },
  {
   "cell_type": "code",
   "execution_count": null,
   "metadata": {},
   "outputs": [
    {
     "data": {
      "text/plain": [
       "5"
      ]
     },
     "execution_count": 46,
     "metadata": {},
     "output_type": "execute_result"
    }
   ],
   "source": [
    "max(b)"
   ]
  },
  {
   "cell_type": "code",
   "execution_count": null,
   "metadata": {},
   "outputs": [
    {
     "data": {
      "text/plain": [
       "1"
      ]
     },
     "execution_count": 47,
     "metadata": {},
     "output_type": "execute_result"
    }
   ],
   "source": [
    "min(b)"
   ]
  },
  {
   "cell_type": "markdown",
   "metadata": {},
   "source": [
    "### How to define our own functions\n",
    "\n",
    "In python, we define our own functions like\n",
    "\n",
    "```python\n",
    "def functionName(parameter1, parameter2, ... parameterN):\n",
    "    <statement-1>\n",
    "    <statement-2>\n",
    "    ...\n",
    "```\n",
    "\n",
    "Indentation is important, we need to use either **space** or **tab**. Indentation is the blank part at the beginning of each row after function def.\n",
    "\n",
    "Some concepts;\n",
    "\n",
    "- Difference between parameter and argument\n",
    "    - **Parameter** is variable in the declaration of function\n",
    "    - **Argument** is the actual value of this variable that gets passed to function\n",
    "    \n",
    "- Functions return values so we can use these values in expressions or assign them to other variables like"
   ]
  },
  {
   "cell_type": "code",
   "execution_count": null,
   "metadata": {},
   "outputs": [
    {
     "name": "stdout",
     "output_type": "stream",
     "text": [
      "2\n"
     ]
    }
   ],
   "source": [
    "a = 5\n",
    "b=10\n",
    "newlist=[a,b]\n",
    "newlistlength=len(newlist)\n",
    "print(newlistlength)"
   ]
  },
  {
   "cell_type": "markdown",
   "metadata": {},
   "source": [
    "- Difference of **return** and **print**\n",
    "    - This is important! Print only shows the value in terminal, you cannot assign it to values!\n",
    "    "
   ]
  },
  {
   "cell_type": "code",
   "execution_count": null,
   "metadata": {},
   "outputs": [
    {
     "name": "stdout",
     "output_type": "stream",
     "text": [
      "6\n",
      "None\n"
     ]
    }
   ],
   "source": [
    "newlist2=[1,2,3,4,5,6]\n",
    "lengthAttempt=print(len(newlist2))\n",
    "print(lengthAttempt)"
   ]
  },
  {
   "cell_type": "markdown",
   "metadata": {},
   "source": [
    "**Lets do it without print**"
   ]
  },
  {
   "cell_type": "code",
   "execution_count": null,
   "metadata": {},
   "outputs": [
    {
     "name": "stdout",
     "output_type": "stream",
     "text": [
      "6\n"
     ]
    }
   ],
   "source": [
    "newlist2 = [1,2,3,4,5,6]\n",
    "lengthAttempt2 = len(newlist2)\n",
    "print(lengthAttempt2)"
   ]
  },
  {
   "cell_type": "markdown",
   "metadata": {},
   "source": [
    "Some functions do not return value. For example `list.append()` is one of them;"
   ]
  },
  {
   "cell_type": "code",
   "execution_count": null,
   "metadata": {},
   "outputs": [
    {
     "name": "stdout",
     "output_type": "stream",
     "text": [
      "None\n"
     ]
    }
   ],
   "source": [
    "alist = ['a', 'b', 'c', 'd']\n",
    "blist=alist.append('d')\n",
    "print(blist)"
   ]
  },
  {
   "cell_type": "markdown",
   "metadata": {},
   "source": [
    "#### Lets make our own function"
   ]
  },
  {
   "cell_type": "code",
   "execution_count": null,
   "metadata": {},
   "outputs": [],
   "source": [
    "def foo():\n",
    "    #Grove for life.\n",
    "    \"\"\"bidip bidip bidip\"\"\"\n",
    "    pass"
   ]
  },
  {
   "cell_type": "code",
   "execution_count": null,
   "metadata": {},
   "outputs": [
    {
     "name": "stdout",
     "output_type": "stream",
     "text": [
      "Help on function foo in module __main__:\n",
      "\n",
      "foo()\n",
      "    bidip bidip bidip\n",
      "\n"
     ]
    }
   ],
   "source": [
    "help(foo)"
   ]
  },
  {
   "cell_type": "markdown",
   "metadata": {},
   "source": [
    "# Lets write our own functions\n",
    "\n",
    "## Example-1 (Equation Roots)\n",
    "\n",
    "Write a function named “roots” which returns the roots of a quadratic equation as a tuple. The discriminant is guaranteed to be greater than 0. The function takes three floating point arguments `a, b, c` which are the constants in the equation: `a*x^2 + b*x + c = 0`"
   ]
  },
  {
   "cell_type": "code",
   "execution_count": null,
   "metadata": {},
   "outputs": [],
   "source": [
    "import math\n",
    "def roots(a,b,c):\n",
    "    delta=b**2-4*a*c\n",
    "    root1=(-b+math.sqrt(delta))/(2*a)\n",
    "    root2 = (-b-math.sqrt(delta))/(2*a)\n",
    "    return root1, root2"
   ]
  },
  {
   "cell_type": "code",
   "execution_count": null,
   "metadata": {},
   "outputs": [
    {
     "data": {
      "text/plain": [
       "(-1.0, -1.0)"
      ]
     },
     "execution_count": 64,
     "metadata": {},
     "output_type": "execute_result"
    }
   ],
   "source": [
    "roots(1,2,1)\n"
   ]
  },
  {
   "cell_type": "code",
   "execution_count": null,
   "metadata": {},
   "outputs": [
    {
     "data": {
      "text/plain": [
       "(3.0, 1.0)"
      ]
     },
     "execution_count": 66,
     "metadata": {},
     "output_type": "execute_result"
    }
   ],
   "source": [
    "roots(1,-4,3)"
   ]
  },
  {
   "cell_type": "markdown",
   "metadata": {},
   "source": [
    "We can write this function differently. We can also create a **helper function** for taking the discriminant and use it in **roots** function"
   ]
  },
  {
   "cell_type": "code",
   "execution_count": null,
   "metadata": {},
   "outputs": [],
   "source": [
    "import math\n",
    "def roots(a,b,c):\n",
    "    def discriminant(a,b,c):\n",
    "        return b**2-4*a*c\n",
    "    \n",
    "    root1=(-b+math.sqrt(discriminant(a,b,c)))/(2*a)\n",
    "    root2 = (-b-math.sqrt(discriminant(a,b,c)))/(2*a)\n",
    "    return root1, root2"
   ]
  },
  {
   "cell_type": "code",
   "execution_count": null,
   "metadata": {},
   "outputs": [
    {
     "data": {
      "text/plain": [
       "(-1.0, -1.0)"
      ]
     },
     "execution_count": 68,
     "metadata": {},
     "output_type": "execute_result"
    }
   ],
   "source": [
    "roots(1,2,1)"
   ]
  },
  {
   "cell_type": "code",
   "execution_count": null,
   "metadata": {},
   "outputs": [],
   "source": []
  },
  {
   "cell_type": "markdown",
   "metadata": {},
   "source": [
    "There is another way, we can define a **local function** for discriminant **inside** the **roots** function"
   ]
  },
  {
   "cell_type": "code",
   "execution_count": null,
   "metadata": {},
   "outputs": [],
   "source": []
  },
  {
   "cell_type": "code",
   "execution_count": null,
   "metadata": {},
   "outputs": [],
   "source": []
  },
  {
   "cell_type": "code",
   "execution_count": null,
   "metadata": {},
   "outputs": [],
   "source": []
  },
  {
   "cell_type": "markdown",
   "metadata": {},
   "source": [
    "## Scoping\n",
    "\n",
    "Variables are only available **inside** their scopes.\n",
    "\n",
    "- **Global Scope** variables in global scope are available in everywhere\n"
   ]
  },
  {
   "cell_type": "code",
   "execution_count": null,
   "metadata": {},
   "outputs": [
    {
     "name": "stdout",
     "output_type": "stream",
     "text": [
      "var: 619\n",
      "var: 619\n"
     ]
    }
   ],
   "source": [
    "var = 619\n",
    "def func():\n",
    "    print(\"var:\", var)\n",
    "func()\n",
    "print(\"var:\", var)"
   ]
  },
  {
   "cell_type": "markdown",
   "metadata": {},
   "source": [
    "Lets create another **var** inside the **func()** and give it another value and see what happens."
   ]
  },
  {
   "cell_type": "code",
   "execution_count": null,
   "metadata": {},
   "outputs": [
    {
     "name": "stdout",
     "output_type": "stream",
     "text": [
      "var: 212\n",
      "var: 312\n"
     ]
    }
   ],
   "source": [
    "var = 312\n",
    "def func():\n",
    "    var=212\n",
    "    print(\"var:\", var)\n",
    "func()\n",
    "print(\"var:\", var)"
   ]
  },
  {
   "cell_type": "markdown",
   "metadata": {},
   "source": [
    "In above code, `var` inside the function `func()` is in the local scope. So we cannot access that outside the function. That's the reason why there is difference"
   ]
  },
  {
   "cell_type": "markdown",
   "metadata": {},
   "source": [
    "## Global Keyword\n",
    "\n",
    "We can create global variables inside functions or local scopes by using ``global`` keyword"
   ]
  },
  {
   "cell_type": "code",
   "execution_count": null,
   "metadata": {},
   "outputs": [
    {
     "name": "stdout",
     "output_type": "stream",
     "text": [
      "1000000\n"
     ]
    }
   ],
   "source": [
    "def exfunc1():\n",
    "    global a\n",
    "    a =1000000\n",
    "exfunc1()\n",
    "print(a)"
   ]
  },
  {
   "cell_type": "markdown",
   "metadata": {},
   "source": [
    "We cannot change global variables in local scope directly, they are **read only** by default"
   ]
  },
  {
   "cell_type": "code",
   "execution_count": null,
   "metadata": {},
   "outputs": [
    {
     "name": "stdout",
     "output_type": "stream",
     "text": [
      "var: 212\n",
      "var: 312\n"
     ]
    }
   ],
   "source": [
    "var = 312\n",
    "def func():\n",
    "    var=212\n",
    "    print(\"var:\", var)\n",
    "func()\n",
    "print(\"var:\", var)"
   ]
  },
  {
   "cell_type": "markdown",
   "metadata": {},
   "source": [
    "If we want to change it, we have to refer the global variable first `global` keyword"
   ]
  },
  {
   "cell_type": "code",
   "execution_count": null,
   "metadata": {},
   "outputs": [
    {
     "name": "stdout",
     "output_type": "stream",
     "text": [
      "300\n"
     ]
    }
   ],
   "source": [
    "globalvar = 200\n",
    "def bar():\n",
    "    global globalvar\n",
    "    globalvar =300\n",
    "bar()\n",
    "print(globalvar)"
   ]
  },
  {
   "cell_type": "markdown",
   "metadata": {},
   "source": [
    "## Example-2 (Days in a Week)"
   ]
  },
  {
   "cell_type": "code",
   "execution_count": null,
   "metadata": {},
   "outputs": [
    {
     "data": {
      "text/plain": [
       "True"
      ]
     },
     "execution_count": 76,
     "metadata": {},
     "output_type": "execute_result"
    }
   ],
   "source": [
    "days = ('Monday', 'Tuesday', 'Wednesday', 'Thursday', 'Friday','Saturday','Sunday')\n",
    "def isDay(word):\n",
    "    return word in days\n",
    "isDay('Monday')"
   ]
  },
  {
   "cell_type": "code",
   "execution_count": null,
   "metadata": {},
   "outputs": [],
   "source": []
  },
  {
   "cell_type": "code",
   "execution_count": null,
   "metadata": {},
   "outputs": [],
   "source": []
  },
  {
   "cell_type": "code",
   "execution_count": null,
   "metadata": {},
   "outputs": [],
   "source": []
  },
  {
   "cell_type": "code",
   "execution_count": null,
   "metadata": {},
   "outputs": [],
   "source": []
  },
  {
   "cell_type": "code",
   "execution_count": null,
   "metadata": {},
   "outputs": [],
   "source": []
  },
  {
   "cell_type": "code",
   "execution_count": null,
   "metadata": {},
   "outputs": [],
   "source": []
  },
  {
   "cell_type": "code",
   "execution_count": null,
   "metadata": {},
   "outputs": [],
   "source": []
  },
  {
   "cell_type": "code",
   "execution_count": null,
   "metadata": {},
   "outputs": [],
   "source": []
  },
  {
   "cell_type": "markdown",
   "metadata": {},
   "source": [
    "# If Statement\n",
    "\n",
    "We write them like this;\n",
    "\n",
    "```python\n",
    "\n",
    "if --condition--:\n",
    "    <statement-1-if-condition-is-true>\n",
    "    <statement-2-if-condition-is-true>\n",
    "    ...\n",
    "    <statement-N-if-condition-is-true>\n",
    "else:\n",
    "    <statement-1-if-condition-is-false>\n",
    "    <statement-2-if-condition-is-false>\n",
    "    ...\n",
    "    <statement-M-if-condition-is-false>\n",
    "```\n",
    "\n",
    "- What is true and what is false?\n",
    "    - Everthing other that `False`,`0`,`\"\"`,`[]`,`()` are evaluated to `True` in an if-condition\n",
    "    \n",
    "## Example-3 (Absolute)\n",
    "\n",
    "Let's write a function named \"absolute\" which returns the absolute value of a given number. We will use `if`and `else` here"
   ]
  },
  {
   "cell_type": "code",
   "execution_count": null,
   "metadata": {},
   "outputs": [
    {
     "data": {
      "text/plain": [
       "10"
      ]
     },
     "execution_count": 81,
     "metadata": {},
     "output_type": "execute_result"
    }
   ],
   "source": [
    "def absolute(a):\n",
    "    if a<0:\n",
    "        return -a\n",
    "\n",
    "absolute(-10)"
   ]
  },
  {
   "cell_type": "code",
   "execution_count": null,
   "metadata": {},
   "outputs": [],
   "source": [
    "absolute(10)"
   ]
  },
  {
   "cell_type": "markdown",
   "metadata": {},
   "source": [
    "We can write this function another way;"
   ]
  },
  {
   "cell_type": "code",
   "execution_count": null,
   "metadata": {},
   "outputs": [],
   "source": [
    "def absolute(a):\n",
    "    result=a\n",
    "    if a<0:\n",
    "        result=-a\n",
    "    return result"
   ]
  },
  {
   "cell_type": "code",
   "execution_count": null,
   "metadata": {},
   "outputs": [
    {
     "data": {
      "text/plain": [
       "5"
      ]
     },
     "execution_count": 80,
     "metadata": {},
     "output_type": "execute_result"
    }
   ],
   "source": [
    "absolute(-5)"
   ]
  },
  {
   "cell_type": "markdown",
   "metadata": {},
   "source": [
    "## Example-4 (Arrogant Son)\n",
    "\n",
    "Write a function named **arrogantSon** which ignores any command which does not end with **please**. It takes one list argument, whose elements are the words in a sentence. The sentence may or may not end with **please**. Examples;\n",
    "\n",
    "```python\n",
    "['tidy','room','please']\n",
    "['clean'`,'table']\n",
    "['finish','homework','please']\n",
    "```\n",
    "\n",
    "If the sentence ends with a **please**, arrogantSon returns a sentence, which is a list consisting of all the words in the original sentence, except 'please', and an additional 'done'. Examples;\n",
    "\n",
    "```python\n",
    "['tidy','room','done']\n",
    "['finish','homework','done']\n",
    "```\n",
    "\n",
    "Else, it returns **Do it yourself** in the form;\n",
    "\n",
    "```python\n",
    "['do','it','yourself']\n",
    "```"
   ]
  },
  {
   "cell_type": "code",
   "execution_count": null,
   "metadata": {},
   "outputs": [],
   "source": [
    "def arrogantSon(list):\n",
    "    if list[len(list)-1]=='please':\n",
    "        list[len(list)-1]='done'\n",
    "        return list\n",
    "    else:\n",
    "        return ['do', 'it', 'yourself']\n",
    "  "
   ]
  },
  {
   "cell_type": "code",
   "execution_count": null,
   "metadata": {},
   "outputs": [
    {
     "data": {
      "text/plain": [
       "['tidy', 'room', 'done']"
      ]
     },
     "execution_count": 88,
     "metadata": {},
     "output_type": "execute_result"
    }
   ],
   "source": [
    "arrogantSon(['tidy','room','please'])"
   ]
  },
  {
   "cell_type": "code",
   "execution_count": null,
   "metadata": {},
   "outputs": [
    {
     "data": {
      "text/plain": [
       "['do', 'it', 'yourself']"
      ]
     },
     "execution_count": 89,
     "metadata": {},
     "output_type": "execute_result"
    }
   ],
   "source": [
    "arrogantSon(['tidy','room'])"
   ]
  },
  {
   "cell_type": "code",
   "execution_count": null,
   "metadata": {},
   "outputs": [],
   "source": []
  },
  {
   "cell_type": "markdown",
   "metadata": {},
   "source": [
    "# Nested If\n",
    "\n",
    "We can write if statements inside if statements.\n",
    "\n",
    "## Example-5 (Is-Divisible)\n",
    "\n",
    "Write a function named ``isDivisible`` which takes two numbers `x` and `y` and returns whether `x` is divisible by `y`"
   ]
  },
  {
   "cell_type": "code",
   "execution_count": null,
   "metadata": {},
   "outputs": [],
   "source": [
    "def isDivisible(x,y):\n",
    "    if x%y!=0:\n",
    "        return False\n",
    "    else:\n",
    "        return True"
   ]
  },
  {
   "cell_type": "code",
   "execution_count": null,
   "metadata": {},
   "outputs": [
    {
     "data": {
      "text/plain": [
       "False"
      ]
     },
     "execution_count": 122,
     "metadata": {},
     "output_type": "execute_result"
    }
   ],
   "source": [
    "isDivisible(11,10)"
   ]
  },
  {
   "cell_type": "code",
   "execution_count": null,
   "metadata": {},
   "outputs": [
    {
     "ename": "ZeroDivisionError",
     "evalue": "integer division or modulo by zero",
     "output_type": "error",
     "traceback": [
      "\u001b[0;31m---------------------------------------------------------------------------\u001b[0m",
      "\u001b[0;31mZeroDivisionError\u001b[0m                         Traceback (most recent call last)",
      "\u001b[0;32m/tmp/ipykernel_1291145/600300041.py\u001b[0m in \u001b[0;36m<module>\u001b[0;34m\u001b[0m\n\u001b[0;32m----> 1\u001b[0;31m \u001b[0misDivisible\u001b[0m\u001b[0;34m(\u001b[0m\u001b[0;36m10\u001b[0m\u001b[0;34m,\u001b[0m\u001b[0;36m0\u001b[0m\u001b[0;34m)\u001b[0m\u001b[0;34m\u001b[0m\u001b[0;34m\u001b[0m\u001b[0m\n\u001b[0m",
      "\u001b[0;32m/tmp/ipykernel_1291145/4013303066.py\u001b[0m in \u001b[0;36misDivisible\u001b[0;34m(x, y)\u001b[0m\n\u001b[1;32m      1\u001b[0m \u001b[0;32mdef\u001b[0m \u001b[0misDivisible\u001b[0m\u001b[0;34m(\u001b[0m\u001b[0mx\u001b[0m\u001b[0;34m,\u001b[0m\u001b[0my\u001b[0m\u001b[0;34m)\u001b[0m\u001b[0;34m:\u001b[0m\u001b[0;34m\u001b[0m\u001b[0;34m\u001b[0m\u001b[0m\n\u001b[0;32m----> 2\u001b[0;31m     \u001b[0;32mif\u001b[0m \u001b[0mx\u001b[0m\u001b[0;34m%\u001b[0m\u001b[0my\u001b[0m\u001b[0;34m!=\u001b[0m\u001b[0;36m0\u001b[0m\u001b[0;34m:\u001b[0m\u001b[0;34m\u001b[0m\u001b[0;34m\u001b[0m\u001b[0m\n\u001b[0m\u001b[1;32m      3\u001b[0m         \u001b[0;32mreturn\u001b[0m \u001b[0;32mFalse\u001b[0m\u001b[0;34m\u001b[0m\u001b[0;34m\u001b[0m\u001b[0m\n\u001b[1;32m      4\u001b[0m     \u001b[0;32melse\u001b[0m\u001b[0;34m:\u001b[0m\u001b[0;34m\u001b[0m\u001b[0;34m\u001b[0m\u001b[0m\n\u001b[1;32m      5\u001b[0m         \u001b[0;32mreturn\u001b[0m \u001b[0;32mTrue\u001b[0m\u001b[0;34m\u001b[0m\u001b[0;34m\u001b[0m\u001b[0m\n",
      "\u001b[0;31mZeroDivisionError\u001b[0m: integer division or modulo by zero"
     ]
    }
   ],
   "source": [
    "isDivisible(10,0)"
   ]
  },
  {
   "cell_type": "markdown",
   "metadata": {},
   "source": [
    "We get error if `y` is `0`. So we need to change this function to;"
   ]
  },
  {
   "cell_type": "code",
   "execution_count": null,
   "metadata": {},
   "outputs": [],
   "source": [
    "def isDivisible(x,y):\n",
    "    if y==0:\n",
    "        print(\"Error\")\n",
    "    else:\n",
    "        if x%y!=0:\n",
    "            return False\n",
    "        else:\n",
    "            return True"
   ]
  },
  {
   "cell_type": "code",
   "execution_count": null,
   "metadata": {},
   "outputs": [
    {
     "data": {
      "text/plain": [
       "False"
      ]
     },
     "execution_count": 125,
     "metadata": {},
     "output_type": "execute_result"
    }
   ],
   "source": [
    "isDivisible(11,10)"
   ]
  },
  {
   "cell_type": "code",
   "execution_count": null,
   "metadata": {},
   "outputs": [
    {
     "name": "stdout",
     "output_type": "stream",
     "text": [
      "Error\n"
     ]
    }
   ],
   "source": [
    "isDivisible(10,0)"
   ]
  },
  {
   "cell_type": "markdown",
   "metadata": {},
   "source": [
    "With `if`and `else` we can also use another keyword called `elif` like this;"
   ]
  },
  {
   "cell_type": "code",
   "execution_count": null,
   "metadata": {},
   "outputs": [],
   "source": [
    "def isDivisible(x,y):\n",
    "    if y==0:\n",
    "        return 'Error'\n",
    "    elif (x%y)==0:\n",
    "        return True\n",
    "    else:\n",
    "        return False"
   ]
  },
  {
   "cell_type": "code",
   "execution_count": null,
   "metadata": {},
   "outputs": [
    {
     "data": {
      "text/plain": [
       "False"
      ]
     },
     "execution_count": 128,
     "metadata": {},
     "output_type": "execute_result"
    }
   ],
   "source": [
    "isDivisible(11,10)"
   ]
  },
  {
   "cell_type": "code",
   "execution_count": null,
   "metadata": {},
   "outputs": [
    {
     "data": {
      "text/plain": [
       "'Error'"
      ]
     },
     "execution_count": 129,
     "metadata": {},
     "output_type": "execute_result"
    }
   ],
   "source": [
    "isDivisible(10,0)"
   ]
  },
  {
   "cell_type": "markdown",
   "metadata": {},
   "source": [
    "More **compact** solution is;"
   ]
  },
  {
   "cell_type": "code",
   "execution_count": null,
   "metadata": {},
   "outputs": [],
   "source": [
    "def isDivisible(x,y):\n",
    "    return y!=0 and (x%y)==0"
   ]
  },
  {
   "cell_type": "code",
   "execution_count": null,
   "metadata": {},
   "outputs": [
    {
     "data": {
      "text/plain": [
       "True"
      ]
     },
     "execution_count": 131,
     "metadata": {},
     "output_type": "execute_result"
    }
   ],
   "source": [
    "isDivisible(100,1)"
   ]
  },
  {
   "cell_type": "code",
   "execution_count": null,
   "metadata": {},
   "outputs": [
    {
     "data": {
      "text/plain": [
       "False"
      ]
     },
     "execution_count": 132,
     "metadata": {},
     "output_type": "execute_result"
    }
   ],
   "source": [
    "isDivisible(100,0)"
   ]
  },
  {
   "cell_type": "markdown",
   "metadata": {},
   "source": [
    "### Conditional Expression\n",
    "\n",
    "- What is the difference between `if statement` and `if expression`\n",
    "\n",
    "```python\n",
    "if b:\n",
    "    var = a\n",
    "else:\n",
    "    var = c\n",
    "    \n",
    "# The code above is equal to this expression\n",
    "var = a if b else c\n",
    "```\n",
    "\n",
    "    - If statement cannot be used inside an expression, but if-expresion can be used inside another expression"
   ]
  },
  {
   "cell_type": "code",
   "execution_count": null,
   "metadata": {},
   "outputs": [
    {
     "data": {
      "text/plain": [
       "18"
      ]
     },
     "execution_count": 133,
     "metadata": {},
     "output_type": "execute_result"
    }
   ],
   "source": [
    "4 + (5 if 3<4 else 7)+(6 if [] else 9)"
   ]
  },
  {
   "cell_type": "markdown",
   "metadata": {},
   "source": [
    "## Example-6 (Change Count)\n",
    "\n",
    "Write a function named `changeCount` which takes a word and makes it plural if it is singular, and singular if it is plural\n",
    "\n",
    "We assume that all plurals are of the form \\<singular case> + 's'"
   ]
  },
  {
   "cell_type": "code",
   "execution_count": null,
   "metadata": {},
   "outputs": [],
   "source": [
    "def changeCount(a):\n",
    "    return a+'s' if a[-1]!='s' else a[:-1]"
   ]
  },
  {
   "cell_type": "code",
   "execution_count": null,
   "metadata": {},
   "outputs": [
    {
     "data": {
      "text/plain": [
       "'bidiks'"
      ]
     },
     "execution_count": 139,
     "metadata": {},
     "output_type": "execute_result"
    }
   ],
   "source": [
    "changeCount('bidik')"
   ]
  },
  {
   "cell_type": "code",
   "execution_count": null,
   "metadata": {},
   "outputs": [
    {
     "data": {
      "text/plain": [
       "'bidik'"
      ]
     },
     "execution_count": 140,
     "metadata": {},
     "output_type": "execute_result"
    }
   ],
   "source": [
    "changeCount('bidiks')"
   ]
  },
  {
   "cell_type": "code",
   "execution_count": null,
   "metadata": {},
   "outputs": [],
   "source": []
  },
  {
   "cell_type": "code",
   "execution_count": null,
   "metadata": {},
   "outputs": [],
   "source": []
  },
  {
   "cell_type": "code",
   "execution_count": null,
   "metadata": {},
   "outputs": [],
   "source": []
  },
  {
   "cell_type": "markdown",
   "metadata": {},
   "source": [
    "## Example - 7\n",
    "\n",
    "Write a function called `find_range` where we take string input of a list like `[val1,val2,val3,val4,...]`\n",
    "\n",
    "- Turn it into a list\n",
    "- Take its minimum and maximum values and calculate `range = maximum-minimum`\n",
    "- If `range` is less than or equal to `5.0`\n",
    "    - Append `['range not important']` to the original list\n",
    "- Else if `range`is between `5.0` and `10.0`\n",
    "    - Append `['range is between 5.0 and 10.0']` to the original list\n",
    "- Else if `range` is greater than or equal to `10.0`\n",
    "    - Append `[minimum, maximum, 'Range is: range']` to the original list\n",
    "- Return the final list\n",
    "\n",
    "Examples;\n",
    "\n",
    "```python\n",
    ">>> find_range('[1,2,3,4,5]')\n",
    "[1,2,3,4,5,['range not important']]\n",
    ">>> find_range('[1,2,3,4,10]')\n",
    "[1,2,3,4,10,['range is between 5.0 and 10.0']]\n",
    ">>> find_range('[10000,0,-1,100]')\n",
    "[10000,0,-1,100,[-1,10000,'Range is: 10001']]\n",
    "```\n",
    "\n",
    "\n",
    "**Hint**: We need to use `map()` function here.\n",
    "\n",
    "`map` function applies the given function to eact item of a (list, tuple, ...) and makes a new list."
   ]
  },
  {
   "cell_type": "code",
   "execution_count": 163,
   "metadata": {},
   "outputs": [],
   "source": [
    "def find_range(string):\n",
    "    noBracket = string.strip('[]')\n",
    "    strList = noBracket.split(\",\")\n",
    "    intList = list(map(int, strList))\n",
    "\n",
    "    minval = min(intList)\n",
    "    maxval = max(intList)\n",
    "    valrange = abs(maxval -minval)\n",
    "\n",
    "    if valrange <= 5.0:\n",
    "        appendedList = ['range not important']\n",
    "        return intList + appendedList\n",
    "    elif valrange >5.0 and valrange<10.0:\n",
    "        appendedList=['range is between 5.0 and 10.0']\n",
    "        return intList +appendedList\n",
    "    else:\n",
    "        appendedList=[minval, maxval, 'Range is: '+ str(valrange)]\n",
    "        return intList+ appendedList\n",
    "    \n",
    "    \n"
   ]
  },
  {
   "cell_type": "code",
   "execution_count": 166,
   "metadata": {},
   "outputs": [
    {
     "data": {
      "text/plain": [
       "[1, 2, 3, 4, 5, 1000, 1, 1000, 'Range is: 999']"
      ]
     },
     "execution_count": 166,
     "metadata": {},
     "output_type": "execute_result"
    }
   ],
   "source": [
    "find_range('[1,2,3,4,5, 1000]')"
   ]
  },
  {
   "cell_type": "markdown",
   "metadata": {},
   "source": [
    "## Example-8 (Line Equation)\n",
    "\n",
    "Write a function named `find_line` which will find the slope `m` and intercept `b` of a line in the form `y = mx + b` whose two points are given in a nested list as\n",
    "\n",
    "`[[x1,y1],[x2,y2]]`\n",
    "\n",
    "The function must return the result as a tuple `(m,b)`"
   ]
  },
  {
   "cell_type": "code",
   "execution_count": 167,
   "metadata": {},
   "outputs": [],
   "source": [
    "def find_line(points):\n",
    "    epsilon=0.000001\n",
    "    pt1=points[0]\n",
    "    pt2=points[1]\n",
    "    pt1x, pt1y = pt1\n",
    "    pt2x, pt2y = pt2\n",
    "\n",
    "    if abs(pt1x-pt2x)<epsilon:\n",
    "        m='Inf'\n",
    "        b=pt1x\n",
    "    else:\n",
    "        m=(pt2y-pt1y)/(pt2x-pt1x)\n",
    "        b=pt1y-m*pt1x\n",
    "    return m,b\n"
   ]
  },
  {
   "cell_type": "code",
   "execution_count": 168,
   "metadata": {},
   "outputs": [
    {
     "data": {
      "text/plain": [
       "(1.0, 0.0)"
      ]
     },
     "execution_count": 168,
     "metadata": {},
     "output_type": "execute_result"
    }
   ],
   "source": [
    "find_line([[0.0,0.0],[1.0,1.0]])"
   ]
  },
  {
   "cell_type": "code",
   "execution_count": 169,
   "metadata": {},
   "outputs": [
    {
     "data": {
      "text/plain": [
       "(1.0, 0.0)"
      ]
     },
     "execution_count": 169,
     "metadata": {},
     "output_type": "execute_result"
    }
   ],
   "source": [
    "find_line([[1.0,1.0],[2.0,2.0]])"
   ]
  },
  {
   "cell_type": "code",
   "execution_count": 170,
   "metadata": {},
   "outputs": [
    {
     "data": {
      "text/plain": [
       "('Inf', 3.0)"
      ]
     },
     "execution_count": 170,
     "metadata": {},
     "output_type": "execute_result"
    }
   ],
   "source": [
    "find_line([[3.0,5.0],[3.0,7.0]])"
   ]
  },
  {
   "cell_type": "code",
   "execution_count": null,
   "metadata": {},
   "outputs": [],
   "source": []
  }
 ],
 "metadata": {
  "kernelspec": {
   "display_name": "Python 3 (ipykernel)",
   "language": "python",
   "name": "python3"
  },
  "language_info": {
   "codemirror_mode": {
    "name": "ipython",
    "version": 3
   },
   "file_extension": ".py",
   "mimetype": "text/x-python",
   "name": "python",
   "nbconvert_exporter": "python",
   "pygments_lexer": "ipython3",
   "version": "3.10.12"
  }
 },
 "nbformat": 4,
 "nbformat_minor": 2
}
